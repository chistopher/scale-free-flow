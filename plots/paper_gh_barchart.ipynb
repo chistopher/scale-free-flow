{
 "cells": [
  {
   "cell_type": "code",
   "execution_count": 3,
   "metadata": {},
   "outputs": [],
   "source": [
    "import matplotlib.pyplot as plt\n",
    "import pandas as pd"
   ]
  },
  {
   "cell_type": "code",
   "execution_count": 24,
   "metadata": {},
   "outputs": [
    {
     "data": {
      "image/png": "[encoded data removed]",
      "text/plain": [
       "<Figure size 432x180 with 2 Axes>"
      ]
     },
     "metadata": {
      "needs_background": "light"
     },
     "output_type": "display_data"
    }
   ],
   "source": [
    "\n",
    "# 735'680ms\n",
    "# 1'061'569ms\n",
    "# 3'332'808ms\n",
    "# Dinics: 2'631ms\n",
    "\n",
    "data = pd.DataFrame(data={\n",
    "    'name': ['Convert', 'T-Side', 'Swap'],\n",
    "    'initialize': [421048, 415864, 427398], \n",
    "    'preflow': [5012, 10955, 2827452],\n",
    "    'convert': [224157, 0, 0],\n",
    "    'find cut': [68, 548819, 65240],\n",
    "})\n",
    "\n",
    "fig, ax = plt.subplots(figsize=(6, 2.5))\n",
    "\n",
    "ax.invert_yaxis()\n",
    "ax.xaxis.set_visible(False)\n",
    "\n",
    "cats = ['initialize', 'preflow', 'convert', 'find cut']\n",
    "\n",
    "# total space\n",
    "start = pd.Series([0,0,0])\n",
    "for cat in cats:\n",
    "    ax.barh(data.name, data[cat], left=start, label=cat)\n",
    "    start = start + data[cat]\n",
    "    \n",
    "ax.set_xlim(0, max(start))\n",
    "\n",
    "\n",
    "ax2 = ax.twinx()\n",
    "ax2.set_yticks(ax.get_yticks())\n",
    "ax2.set_ylim(ax.get_ylim())\n",
    "ax2.set_yticklabels(['736s','1062s','3333s'])\n",
    "\n",
    "ax.legend()\n",
    "\n",
    "\n",
    "plt.savefig('eval_gh_bars.pdf', bbox_inches='tight')\n",
    "\n",
    "plt.show()"
   ]
  },
  {
   "cell_type": "code",
   "execution_count": null,
   "metadata": {},
   "outputs": [],
   "source": []
  }
 ],
 "metadata": {
  "kernelspec": {
   "display_name": "Python 3",
   "language": "python",
   "name": "python3"
  },
  "language_info": {
   "codemirror_mode": {
    "name": "ipython",
    "version": 3
   },
   "file_extension": ".py",
   "mimetype": "text/x-python",
   "name": "python",
   "nbconvert_exporter": "python",
   "pygments_lexer": "ipython3",
   "version": "3.8.2"
  }
 },
 "nbformat": 4,
 "nbformat_minor": 2
}
