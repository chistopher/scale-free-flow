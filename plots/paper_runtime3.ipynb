{
 "cells": [
  {
   "cell_type": "code",
   "execution_count": 1,
   "metadata": {},
   "outputs": [],
   "source": [
    "import matplotlib.pyplot as plt\n",
    "import matplotlib\n",
    "import pandas as pd\n",
    "import seaborn as sns"
   ]
  },
  {
   "cell_type": "code",
   "execution_count": 10,
   "metadata": {},
   "outputs": [
    {
     "name": "stdout",
     "output_type": "stream",
     "text": [
      "                 inst       type  iter           alg      stage     time\n",
      "0     fb-pages-tvshow  construct     0        Dinics  construct      601\n",
      "1     fb-pages-tvshow  construct     0     DinicsOPT  construct      612\n",
      "2     fb-pages-tvshow  construct     0   PushRelabel  construct     1701\n",
      "3     fb-pages-tvshow  construct     0  BK-Algorithm  construct      468\n",
      "4     fb-pages-tvshow        low     0        Dinics       init       73\n",
      "...               ...        ...   ...           ...        ...      ...\n",
      "2435            brain         gh     5  BK-Algorithm       flow  1175687\n",
      "2436            brain         gh     6  BK-Algorithm       flow  1173674\n",
      "2437            brain         gh     7  BK-Algorithm       flow  1197557\n",
      "2438            brain         gh     8  BK-Algorithm       flow  1939455\n",
      "2439            brain         gh     9  BK-Algorithm       flow   258730\n",
      "\n",
      "[2440 rows x 6 columns]\n"
     ]
    }
   ],
   "source": [
    "file = \"../code/data/next_gen_exps.times\"\n",
    "df = pd.read_csv(file)\n",
    "df.inst = df.inst.str[:-4]\n",
    "print(df)\n",
    "\n",
    "# convert to ms\n",
    "df['time-ms'] = df.time/1000"
   ]
  },
  {
   "cell_type": "markdown",
   "metadata": {},
   "source": [
    "# all times are in us (seconds * 1e-6)"
   ]
  },
  {
   "cell_type": "code",
   "execution_count": 18,
   "metadata": {},
   "outputs": [
    {
     "data": {
      "image/png": "[encoded data removed]",
      "text/plain": [
       "<Figure size 1152x288 with 1 Axes>"
      ]
     },
     "metadata": {
      "needs_background": "light"
     },
     "output_type": "display_data"
    }
   ],
   "source": [
    "shape = {\n",
    "    #'low': '*',\n",
    "    #'high': 'o',\n",
    "    'gh': 's'\n",
    "}\n",
    "\n",
    "colors = {'DinicsOPT': 'C0','Dinics': 'C1','PushRelabel': 'C2','BK-Algorithm': 'C3'}\n",
    "labels = ['Dinitz', 'DinitzOPT', 'PushRelabel', 'BK-Algorithm']\n",
    "\n",
    "fig, ax = plt.subplots(figsize=(16,4))\n",
    "\n",
    "filtered = df[df.stage=='flow']\n",
    "filtered = filtered[filtered.type=='gh']\n",
    "\n",
    "first = True\n",
    "for t, type_data in filtered.groupby('type'):\n",
    "    ax = sns.stripplot(x='inst', y='time-ms', data=type_data, hue='alg', marker=shape[t], dodge=True, palette=colors)\n",
    "    if first:\n",
    "        leg1 = ax.legend(loc='upper left', labels=labels)\n",
    "        ax.add_artist(leg1)\n",
    "        first = False\n",
    "\n",
    "ax.legend(loc='lower right', handles=[matplotlib.lines.Line2D([0], [0],marker=shape[t], color='w', label=t, markerfacecolor='k', markersize=10) for t in shape.keys()])\n",
    "\n",
    "ax.set_ylabel('Time [ms]')\n",
    "ax.set_xlabel('Instance')\n",
    "ax.set_ylim(10**-3.5, ax.get_ylim()[1])\n",
    "ax.semilogy()\n",
    "\n",
    "# grid and size\n",
    "num_inst = df.inst.nunique()\n",
    "ax.set_xticks([x+0.5 for x in range(0,num_inst-1)], minor=True)\n",
    "ax.set_xlim(-0.5, num_inst-0.5)\n",
    "ax.grid(which='minor', axis='x')\n",
    "ax.grid(which='major', axis='y')\n",
    "\n",
    "plt.savefig('eval_runtime_gh.pdf', bbox_inches='tight')\n",
    "plt.show()"
   ]
  },
  {
   "cell_type": "code",
   "execution_count": null,
   "metadata": {},
   "outputs": [],
   "source": []
  }
 ],
 "metadata": {
  "kernelspec": {
   "display_name": "Python 3",
   "language": "python",
   "name": "python3"
  },
  "language_info": {
   "codemirror_mode": {
    "name": "ipython",
    "version": 3
   },
   "file_extension": ".py",
   "mimetype": "text/x-python",
   "name": "python",
   "nbconvert_exporter": "python",
   "pygments_lexer": "ipython3",
   "version": "3.8.2"
  }
 },
 "nbformat": 4,
 "nbformat_minor": 2
}
