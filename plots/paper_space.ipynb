{
 "cells": [
  {
   "cell_type": "code",
   "execution_count": 1,
   "metadata": {},
   "outputs": [
    {
     "name": "stderr",
     "output_type": "stream",
     "text": [
      "In /home/chris/.local/lib/python3.6/site-packages/matplotlib/mpl-data/stylelib/_classic_test.mplstyle: \n",
      "The savefig.frameon rcparam was deprecated in Matplotlib 3.1 and will be removed in 3.3.\n",
      "In /home/chris/.local/lib/python3.6/site-packages/matplotlib/mpl-data/stylelib/_classic_test.mplstyle: \n",
      "The verbose.level rcparam was deprecated in Matplotlib 3.1 and will be removed in 3.3.\n",
      "In /home/chris/.local/lib/python3.6/site-packages/matplotlib/mpl-data/stylelib/_classic_test.mplstyle: \n",
      "The verbose.fileo rcparam was deprecated in Matplotlib 3.1 and will be removed in 3.3.\n"
     ]
    }
   ],
   "source": [
    "import matplotlib.pyplot as plt\n",
    "import pandas as pd"
   ]
  },
  {
   "cell_type": "code",
   "execution_count": 2,
   "metadata": {},
   "outputs": [
    {
     "name": "stdout",
     "output_type": "stream",
     "text": [
      "read ../code/cmake-build-release/soc-slashdot.ghpairs.space.csv with 386880 rows\n"
     ]
    }
   ],
   "source": [
    "#file = \"../code/data/as-skitter.lpairs.space.csv\"\n",
    "#file = \"../code/data/soc-slashdot.ghpairs.space.csv\"\n",
    "file = \"../code/cmake-build-release/soc-slashdot.ghpairs.space.csv\"\n",
    "#file = \"../code/data/soc-slashdot.lpairs.space.csv\"\n",
    "df = pd.read_csv(file)\n",
    "\n",
    "# add new columns for lastLayer w/o inter\n",
    "for prefix in ['nodes','edges','dfsNodes','dfsEdges']:\n",
    "    for dir in ['S','T']:\n",
    "        newName = f\"{prefix}InLastLayer{dir}\\inter\"\n",
    "        lastLayer = f\"{prefix}InLastLayer{dir}\"\n",
    "        intersection = prefix+\"InInter\"\n",
    "        if prefix[0:3]=='dfs' and dir=='T':\n",
    "            df[newName] = [0]*len(df)\n",
    "        else:\n",
    "            df[newName] = df[lastLayer] - df[intersection]\n",
    "\n",
    "# add flow column\n",
    "df['flow'] = df['flowBefore'].shift(-1, fill_value=0) - df['flowBefore']\n",
    "df['flow'] = df['flow'].clip(lower=0)\n",
    "\n",
    "print(f'read {file} with {len(df)} rows')"
   ]
  },
  {
   "cell_type": "code",
   "execution_count": 3,
   "metadata": {},
   "outputs": [],
   "source": [
    "colors = {\n",
    "    'BeforeLastLayerS': '#56B4E9', \n",
    "    'InLastLayerS\\inter': '0.75', \n",
    "    'InInter': '#D55E00', \n",
    "    'InLastLayerT\\inter': '0.75', \n",
    "    'BeforeLastLayerT': '#009E73',\n",
    "}\n",
    "    \n",
    "allEdges = [\n",
    "    'edgesBeforeLastLayerS',\n",
    "    'edgesInLastLayerS\\inter',\n",
    "    'edgesInInter',\n",
    "    'edgesInLastLayerT\\inter',\n",
    "    'edgesBeforeLastLayerT'\n",
    "]\n",
    "bfsEdges = ['edgesBeforeLastLayerS', 'edgesBeforeLastLayerT']\n",
    "dfsEdges = [\n",
    "    'dfsEdgesBeforeLastLayerS',\n",
    "    #'dfsEdgesInLastLayerS\\inter',\n",
    "    'dfsEdgesInInter',\n",
    "    'dfsEdgesInLastLayerT\\inter',\n",
    "    'dfsEdgesBeforeLastLayerT'\n",
    "]\n",
    "num_pairs = len(df[df.DIRECTION=='UNI'].groupby(['S','T']))"
   ]
  },
  {
   "cell_type": "code",
   "execution_count": 4,
   "metadata": {},
   "outputs": [
    {
     "data": {
      "image/png": "[encoded data removed]",
      "text/plain": [
       "<Figure size 1152x144 with 4 Axes>"
      ]
     },
     "metadata": {
      "needs_background": "light"
     },
     "output_type": "display_data"
    }
   ],
   "source": [
    "\n",
    "fig, axs = plt.subplots(1,2,figsize=(16, 2))\n",
    "\n",
    "for dir, group in df.groupby('DIRECTION'):\n",
    "    ax = axs[1] if dir=='BI' else axs[0]\n",
    "    data= group.sum()\n",
    "\n",
    "    ax.invert_yaxis()\n",
    "    ax.xaxis.set_visible(False)\n",
    "    ax.set_xlim(0, data[allEdges].sum())\n",
    "\n",
    "    # total space\n",
    "    start = {}\n",
    "    offset = 0\n",
    "    for cat in allEdges:\n",
    "        start[cat] = offset\n",
    "        ax.barh('ALL', data[cat], left=start[cat], label=cat[5:], color=colors[cat[5:]])\n",
    "        offset += data[cat]\n",
    "\n",
    "    # bfs search space\n",
    "    for cat in bfsEdges:\n",
    "        ax.barh('BFS', data[cat], left=start[cat], color=colors[cat[5:]])\n",
    "\n",
    "    # dfs search space\n",
    "    for cat in dfsEdges:\n",
    "        ax.barh('DFS', data[cat], left=start['e'+cat[4:]], color=colors[cat[8:]])\n",
    "\n",
    "    ax2 = ax.twinx()\n",
    "    ax2.set_yticks(ax.get_yticks())\n",
    "    ax2.set_ylim(ax.get_ylim())\n",
    "    ax2.set_yticklabels(f'{data[cats].sum()//num_pairs}' for cats in [allEdges, bfsEdges, dfsEdges])\n",
    "    \n",
    "    ax.set_title(f'{dir}-directional Search')\n",
    "\n",
    "        \n",
    "axs[0].legend(loc='lower right')\n",
    "plt.savefig('eval_space_total.pdf', bbox_inches='tight')\n",
    "plt.show()"
   ]
  },
  {
   "cell_type": "code",
   "execution_count": 5,
   "metadata": {},
   "outputs": [
    {
     "name": "stdout",
     "output_type": "stream",
     "text": [
      "Direction   BI\n",
      "pairs       70067\n",
      "avg dist    1.7824653545891789\n",
      "avg SDEG    10.234247220517505\n",
      "avg TDEG    1491.6308390540482\n",
      "avg rounds  2.7607861047283313\n",
      "avg flow/R  5.5552835709596105\n",
      "avg BFS     1878\n",
      "avg DFS     503\n",
      "\n",
      "Direction   UNI\n",
      "pairs       70067\n",
      "avg dist    1.7824653545891789\n",
      "avg SDEG    10.234247220517505\n",
      "avg TDEG    1491.6308390540482\n",
      "avg rounds  2.7607861047283313\n",
      "avg flow/R  5.5552835709596105\n",
      "avg BFS     34915\n",
      "avg DFS     4323\n",
      "\n",
      "trivial     56087\n",
      "\n",
      "UNI / ALL\n",
      "UNI-bfs looks at 0.13439 times all edges\n",
      "UNI-dfs looks at 0.01061 times all edges\n",
      "UNI / BI\n",
      "UNI-bfs looks at 18.59 times BI-bfs edges\n",
      "UNI-dfs looks at 8.59 times BI-dfs edges\n"
     ]
    }
   ],
   "source": [
    "# aggregate totals\n",
    "numPairs = len(df.groupby(['S','T']))\n",
    "totals = {'allNodes': 70068*numPairs, 'allEdges': 358647*2*numPairs}\n",
    "for dir, dir_data in df.groupby('DIRECTION'):\n",
    "    runs = dir_data.groupby(['S','T'])\n",
    "    agg = runs.sum().sum()\n",
    "    totals[dir+'bfsEdges'] = agg[bfsEdges].sum()\n",
    "    totals[dir+'dfsEdges'] = agg[dfsEdges].sum()\n",
    "    numBFS = len(dir_data)\n",
    "    numDFS = len(dir_data)-len(runs)\n",
    "    print('Direction  ', dir)\n",
    "    print('pairs      ', len(runs))\n",
    "    print('avg dist   ', runs['distOfSink'].first().mean())\n",
    "    print('avg SDEG   ', runs.SDEG.first().mean())\n",
    "    print('avg TDEG   ', runs.TDEG.first().mean())\n",
    "    print('avg rounds ', runs.ROUND.max().add(1).mean())\n",
    "    print('avg flow/R ', dir_data.flow.sum() / runs.ROUND.max().sum())\n",
    "    print('avg BFS    ', totals[dir+'bfsEdges']//numBFS)\n",
    "    print('avg DFS    ', totals[dir+'dfsEdges']//numDFS)\n",
    "    print()\n",
    "    \n",
    "pairs = df[df.DIRECTION=='BI'].groupby(['S','T']).max()\n",
    "print('trivial    ', len(pairs[pairs[['SDEG','TDEG']].min(axis=1) == pairs.flowBefore]))\n",
    "print()\n",
    "print('UNI / ALL')\n",
    "for trav in ['bfs', 'dfs']:\n",
    "    print(f'UNI-{trav} looks at', \n",
    "          '%.5f' % (totals[f'UNI{trav}Edges'] / totals[f'allEdges']), \n",
    "          f'times all edges')\n",
    "\n",
    "print('UNI / BI')\n",
    "for trav in ['bfs', 'dfs']:\n",
    "    print(f'UNI-{trav} looks at', \n",
    "          '%.2f' % (totals[f'UNI{trav}Edges'] / totals[f'BI{trav}Edges']), \n",
    "          f'times BI-{trav} edges')"
   ]
  },
  {
   "cell_type": "code",
   "execution_count": null,
   "metadata": {},
   "outputs": [],
   "source": []
  }
 ],
 "metadata": {
  "kernelspec": {
   "display_name": "Python 3",
   "language": "python",
   "name": "python3"
  },
  "language_info": {
   "codemirror_mode": {
    "name": "ipython",
    "version": 3
   },
   "file_extension": ".py",
   "mimetype": "text/x-python",
   "name": "python",
   "nbconvert_exporter": "python",
   "pygments_lexer": "ipython3",
   "version": "3.6.9"
  }
 },
 "nbformat": 4,
 "nbformat_minor": 2
}
